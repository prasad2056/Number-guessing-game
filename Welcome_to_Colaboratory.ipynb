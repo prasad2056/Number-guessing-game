{
  "cells": [
    {
      "cell_type": "markdown",
      "metadata": {
        "id": "view-in-github",
        "colab_type": "text"
      },
      "source": [
        "<a href=\"https://colab.research.google.com/github/prasad2056/Number-guessing-game/blob/main/Welcome_to_Colaboratory.ipynb\" target=\"_parent\"><img src=\"https://colab.research.google.com/assets/colab-badge.svg\" alt=\"Open In Colab\"/></a>"
      ]
    },
    {
      "cell_type": "code",
      "source": [
        "name=input(\"Enter your name : \")\n",
        "print(name,\"Welcome to the number guessing game\")\n",
        "print(\"In this game you need to guess the secret number given by the system\")\n",
        "\n",
        "\n",
        "import random\n",
        "\n",
        "def guess_number():\n",
        "    secret_number = random.randint(1, 100)\n",
        "    def is_prime(n):\n",
        "        if n < 2:\n",
        "            return False\n",
        "        for i in range(2, int(n**0.5)+1):\n",
        "            if n % i == 0:\n",
        "                return False\n",
        "        return True\n",
        "\n",
        "\n",
        "    numbers = [x for x in range(1,secret_number)]\n",
        "    div_a=[]\n",
        "    for i in numbers:\n",
        "        if secret_number%i==0:\n",
        "            div_a.append(i)\n",
        "\n",
        "\n",
        "    attempts = 0\n",
        "    while True:\n",
        "        try:\n",
        "            guess = int(input(\"Guess a number between 1 and 100: \"))\n",
        "            if guess == secret_number:\n",
        "                print(\"Congratulations, you guessed the number!\")\n",
        "                print(\"Number of attempts:\", attempts)\n",
        "                if attempts <= 3:\n",
        "                    print(\"Excellent you got 5 stars *****\")\n",
        "                if attempts == 4:\n",
        "                    print(\"Very good you got 4 stars ***\")\n",
        "                if attempts > 4:\n",
        "                    print(\"Good you got 1 stars *\")\n",
        "\n",
        "                    print(\"Try hard to get big stars\")\n",
        "                print(\"Do you want to play te game again\")\n",
        "\n",
        "                a=int(input(\"If you want to play the again select 'one(1)' to continue or 'zero(0)' to stop the game : \"))\n",
        "                if a==1:\n",
        "                    guess_number()\n",
        "                elif a==0:\n",
        "                    break\n",
        "                else:\n",
        "                    break\n",
        "\n",
        "\n",
        "            elif guess < secret_number:\n",
        "                print(\"Your guessed number {} is lesser than the secret number, try again!\".format(guess))\n",
        "                attempts += 1\n",
        "            elif guess > secret_number:\n",
        "                print(\"Your guessed number {} is greater than the secret number, try again!\".format(guess))\n",
        "                attempts += 1\n",
        "\n",
        "            if attempts == 1:\n",
        "                if secret_number <=50:\n",
        "                    print(\"Hint 1 : The secret number is less than fifty(50)\")\n",
        "                else:\n",
        "                    print(\"Hint 1 : The secret number is above fifty(50)\")\n",
        "            elif attempts == 2:\n",
        "                if secret_number % 2 ==0:\n",
        "                    print(\"Hint 2 : The secret number is even\")\n",
        "                else:\n",
        "                    print(\"Hint 2 : The secret number is odd\")\n",
        "            elif attempts == 3:\n",
        "                if is_prime(secret_number):\n",
        "                    print(\"Hint 3 : secret number is a prime number.\")\n",
        "                else:\n",
        "                    print(\"Hint 3 : secret number is not a prime number.\")\n",
        "            elif attempts == 4:\n",
        "                print(\"Hint 4 : The secret number is divisble by : \",div_a)\n",
        "            elif attempts == 5:\n",
        "                print(\"Hint 5 : The square of secret number is : \",secret_number**2)\n",
        "            elif attempts == 6:\n",
        "                print(\"Hint 6 : The cube root of secret number is : \",secret_number**1/3)\n",
        "        except ValueError:\n",
        "            print(\"Invalid input, please enter a number between 1 and 100.\")\n",
        "guess_number()\n"
      ],
      "metadata": {
        "id": "5KFHf5kZEno_",
        "outputId": "38f2442c-c492-423b-8532-f69b7bed9a3c",
        "colab": {
          "base_uri": "https://localhost:8080/"
        }
      },
      "execution_count": 2,
      "outputs": [
        {
          "name": "stdout",
          "output_type": "stream",
          "text": [
            "Enter your name : prasad\n",
            "prasad Welcome to the number guessing game\n",
            "In this game you need to guess the secret number given by the system\n",
            "Guess a number between 1 and 100: 50\n",
            "Your guessed number 50 is greater than the secret number, try again!\n",
            "Hint 1 : The secret number is less than fifty(50)\n",
            "Guess a number between 1 and 100: 40\n",
            "Your guessed number 40 is greater than the secret number, try again!\n",
            "Hint 2 : The secret number is even\n",
            "Guess a number between 1 and 100: 30\n",
            "Your guessed number 30 is greater than the secret number, try again!\n",
            "Hint 3 : secret number is not a prime number.\n",
            "Guess a number between 1 and 100: 20\n",
            "Your guessed number 20 is greater than the secret number, try again!\n",
            "Hint 4 : The secret number is divisble by :  [1, 2]\n",
            "Guess a number between 1 and 100: 10\n",
            "Your guessed number 10 is greater than the secret number, try again!\n",
            "Hint 5 : The square of secret number is :  16\n",
            "Guess a number between 1 and 100: 4\n",
            "Congratulations, you guessed the number!\n",
            "Number of attempts: 5\n",
            "Good you got 1 stars *\n",
            "Try hard to get big stars\n",
            "Do you want to play te game again\n",
            "If you want to play the again select 'one(1)' to continue or 'zero(0)' to stop the game : 0\n"
          ]
        }
      ]
    },
    {
      "cell_type": "code",
      "source": [],
      "metadata": {
        "id": "c-uyobLvFNYH"
      },
      "execution_count": null,
      "outputs": []
    }
  ],
  "metadata": {
    "colab": {
      "name": "Welcome to Colaboratory",
      "toc_visible": true,
      "provenance": [],
      "include_colab_link": true
    },
    "kernelspec": {
      "display_name": "Python 3",
      "name": "python3"
    }
  },
  "nbformat": 4,
  "nbformat_minor": 0
}